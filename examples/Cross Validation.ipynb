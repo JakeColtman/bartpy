{
 "cells": [
  {
   "cell_type": "markdown",
   "metadata": {
    "collapsed": true
   },
   "source": [
    "# Cross Validating BartPy Models\n",
    "\n",
    "Using the sklearn interface, we can plug BartPy models into existing sklearn pipelines for feature engineering, scoring and parameter tuning.\n"
   ]
  },
  {
   "cell_type": "code",
   "execution_count": 1,
   "metadata": {},
   "outputs": [],
   "source": [
    "import numpy as np\n",
    "import pandas as pd\n",
    "\n",
    "from matplotlib import pyplot as plt\n",
    "%matplotlib inline\n",
    "\n",
    "from bartpy.sklearnmodel import SklearnModel"
   ]
  },
  {
   "cell_type": "code",
   "execution_count": 2,
   "metadata": {},
   "outputs": [
    {
     "data": {
      "text/plain": [
       "<matplotlib.collections.PathCollection at 0x7fbd100c2190>"
      ]
     },
     "execution_count": 2,
     "metadata": {},
     "output_type": "execute_result"
    },
    {
     "data": {
      "image/png": "[encoded data removed]",
      "text/plain": [
       "<Figure size 432x288 with 1 Axes>"
      ]
     },
     "metadata": {
      "needs_background": "light"
     },
     "output_type": "display_data"
    }
   ],
   "source": [
    "# Start by creating some synthetic data to play with\n",
    "\n",
    "x = np.random.normal(0, 0.5, size=1000)\n",
    "X = pd.DataFrame({\"x\": x})\n",
    "y = 2 * x + 4 * np.power(x, 3)\n",
    "plt.scatter(x, y)"
   ]
  },
  {
   "cell_type": "code",
   "execution_count": 3,
   "metadata": {},
   "outputs": [],
   "source": [
    "# Create an instance of the Sklearn class\n",
    "# Set parameters to make the model very small and fast for exposition purposes\n",
    "model = SklearnModel(n_burn=50, n_chains=1, n_jobs=1, n_samples=50, n_trees=10)"
   ]
  },
  {
   "cell_type": "code",
   "execution_count": 5,
   "metadata": {},
   "outputs": [
    {
     "name": "stderr",
     "output_type": "stream",
     "text": [
      "100%|██████████| 50/50 [00:00<00:00, 253.52it/s]\n  0%|          | 0/50 [00:00<?, ?it/s]Starting burn\nStarting sampling\n100%|██████████| 50/50 [00:00<00:00, 243.16it/s]\n"
     ]
    },
    {
     "data": {
      "text/plain": [
       "<matplotlib.collections.PathCollection at 0x7fbda0f3c7d0>"
      ]
     },
     "execution_count": 5,
     "metadata": {},
     "output_type": "execute_result"
    },
    {
     "data": {
      "image/png": "[encoded data removed]",
      "text/plain": [
       "<Figure size 432x288 with 1 Axes>"
      ]
     },
     "metadata": {
      "needs_background": "light"
     },
     "output_type": "display_data"
    }
   ],
   "source": [
    "# Quickly train and visually inspect that the results look good\n",
    "model.fit(X, y)\n",
    "plt.scatter(x, model.predict(X))\n",
    "plt.scatter(x, y)"
   ]
  },
  {
   "cell_type": "code",
   "execution_count": 6,
   "metadata": {},
   "outputs": [
    {
     "name": "stderr",
     "output_type": "stream",
     "text": [
      "/opt/anaconda3/lib/python3.7/site-packages/sklearn/model_selection/_split.py:1978: FutureWarning: The default value of cv will change from 3 to 5 in version 0.22. Specify it explicitly to silence this warning.\n  warnings.warn(CV_WARNING, FutureWarning)\n 46%|████▌     | 23/50 [00:00<00:00, 228.78it/s]Starting burn\n100%|██████████| 50/50 [00:00<00:00, 238.75it/s]\n100%|██████████| 50/50 [00:00<00:00, 265.64it/s]\n  0%|          | 0/50 [00:00<?, ?it/s]Starting sampling\nStarting burn\n100%|██████████| 50/50 [00:00<00:00, 235.44it/s]\n100%|██████████| 50/50 [00:00<00:00, 255.65it/s]\nStarting sampling\n100%|██████████| 50/50 [00:00<00:00, 216.89it/s]\n100%|██████████| 50/50 [00:00<00:00, 250.97it/s]\nStarting burn\nStarting sampling\n"
     ]
    },
    {
     "data": {
      "text/plain": [
       "array([0.95914021, 0.9582215 , 0.96570954])"
      ]
     },
     "execution_count": 6,
     "metadata": {},
     "output_type": "execute_result"
    }
   ],
   "source": [
    "# Score the model using cross validation\n",
    "from sklearn.model_selection import cross_val_score\n",
    "scores = cross_val_score(model, X, y)\n",
    "scores"
   ]
  },
  {
   "cell_type": "code",
   "execution_count": 7,
   "metadata": {},
   "outputs": [
    {
     "name": "stderr",
     "output_type": "stream",
     "text": [
      "/opt/anaconda3/lib/python3.7/site-packages/sklearn/model_selection/_split.py:1978: FutureWarning: The default value of cv will change from 3 to 5 in version 0.22. Specify it explicitly to silence this warning.\n  warnings.warn(CV_WARNING, FutureWarning)\n 42%|████▏     | 21/50 [00:00<00:00, 206.54it/s]Starting burn\n100%|██████████| 50/50 [00:00<00:00, 215.43it/s]\n100%|██████████| 50/50 [00:00<00:00, 256.24it/s]\nStarting sampling\n 50%|█████     | 25/50 [00:00<00:00, 245.47it/s]Starting burn\n100%|██████████| 50/50 [00:00<00:00, 231.41it/s]\n 46%|████▌     | 23/50 [00:00<00:00, 226.72it/s]Starting sampling\n100%|██████████| 50/50 [00:00<00:00, 244.63it/s]\n 44%|████▍     | 22/50 [00:00<00:00, 214.96it/s]Starting burn\n100%|██████████| 50/50 [00:00<00:00, 201.21it/s]\n 42%|████▏     | 21/50 [00:00<00:00, 208.54it/s]Starting sampling\n100%|██████████| 50/50 [00:00<00:00, 219.41it/s]\n 24%|██▍       | 12/50 [00:00<00:00, 113.91it/s]Starting burn\n100%|██████████| 50/50 [00:00<00:00, 114.80it/s]\n 28%|██▊       | 14/50 [00:00<00:00, 132.27it/s]Starting sampling\n100%|██████████| 50/50 [00:00<00:00, 133.18it/s]\n 26%|██▌       | 13/50 [00:00<00:00, 126.25it/s]Starting burn\n100%|██████████| 50/50 [00:00<00:00, 129.44it/s]\n 26%|██▌       | 13/50 [00:00<00:00, 129.31it/s]Starting sampling\n100%|██████████| 50/50 [00:00<00:00, 134.04it/s]\n 24%|██▍       | 12/50 [00:00<00:00, 111.87it/s]Starting burn\n100%|██████████| 50/50 [00:00<00:00, 110.28it/s]\n 24%|██▍       | 12/50 [00:00<00:00, 119.13it/s]Starting sampling\n100%|██████████| 50/50 [00:00<00:00, 126.12it/s]\n 10%|█         | 5/50 [00:00<00:01, 43.34it/s]Starting burn\n100%|██████████| 50/50 [00:01<00:00, 49.06it/s]\n 10%|█         | 5/50 [00:00<00:00, 48.25it/s]Starting sampling\n100%|██████████| 50/50 [00:00<00:00, 50.51it/s]\n 10%|█         | 5/50 [00:00<00:00, 46.21it/s]Starting burn\n100%|██████████| 50/50 [00:01<00:00, 49.34it/s]\n 10%|█         | 5/50 [00:00<00:00, 45.39it/s]Starting sampling\n100%|██████████| 50/50 [00:00<00:00, 50.31it/s]\n 10%|█         | 5/50 [00:00<00:01, 44.31it/s]Starting burn\n100%|██████████| 50/50 [00:01<00:00, 49.72it/s]\n 10%|█         | 5/50 [00:00<00:00, 45.45it/s]Starting sampling\n100%|██████████| 50/50 [00:01<00:00, 47.88it/s]\n  8%|▊         | 4/50 [00:00<00:01, 38.46it/s]Starting burn\n100%|██████████| 50/50 [00:01<00:00, 47.77it/s]\n 10%|█         | 5/50 [00:00<00:01, 44.59it/s]Starting sampling\n100%|██████████| 50/50 [00:01<00:00, 48.37it/s]\n"
     ]
    },
    {
     "data": {
      "text/plain": [
       "{'n_trees': 50}"
      ]
     },
     "execution_count": 7,
     "metadata": {},
     "output_type": "execute_result"
    }
   ],
   "source": [
    "# Search for the best parameters using GridSearch\n",
    "from sklearn.model_selection import GridSearchCV\n",
    "parameters = {'n_trees': (10, 20, 50)}\n",
    "grid_search = GridSearchCV(model, parameters)\n",
    "grid_search.fit(X, y)\n",
    "grid_search.best_params_"
   ]
  },
  {
   "cell_type": "code",
   "execution_count": null,
   "metadata": {},
   "outputs": [],
   "source": []
  }
 ],
 "metadata": {
  "kernelspec": {
   "display_name": "Python 3",
   "language": "python",
   "name": "python3"
  },
  "language_info": {
   "codemirror_mode": {
    "name": "ipython",
    "version": 3
   },
   "file_extension": ".py",
   "mimetype": "text/x-python",
   "name": "python",
   "nbconvert_exporter": "python",
   "pygments_lexer": "ipython3",
   "version": "3.7.4-final"
  }
 },
 "nbformat": 4,
 "nbformat_minor": 1
}
